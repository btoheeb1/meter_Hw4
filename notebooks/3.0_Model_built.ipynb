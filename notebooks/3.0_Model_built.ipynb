{
 "cells": [
  {
   "cell_type": "code",
   "execution_count": 1,
   "metadata": {},
   "outputs": [
    {
     "data": {
      "text/plain": [
       "'/Users/bahlow/meter_Hw4'"
      ]
     },
     "execution_count": 1,
     "metadata": {},
     "output_type": "execute_result"
    }
   ],
   "source": [
    "import sys\n",
    "import os\n",
    "\n",
    "os.chdir(\"../\")\n",
    "\n",
    "os.getcwd()"
   ]
  },
  {
   "cell_type": "code",
   "execution_count": 2,
   "metadata": {},
   "outputs": [],
   "source": [
    "from src.data_preprocess import DataPreprocessing"
   ]
  },
  {
   "cell_type": "code",
   "execution_count": 3,
   "metadata": {},
   "outputs": [],
   "source": [
    "# preprocessor = DataPreprocessing()\n",
    "\n",
    "# data = preprocessor.load_data(\"data/Meter_A.txt\")"
   ]
  },
  {
   "cell_type": "markdown",
   "metadata": {},
   "source": [
    "## Data preprocessing"
   ]
  },
  {
   "cell_type": "code",
   "execution_count": 4,
   "metadata": {},
   "outputs": [],
   "source": [
    "from sklearn.model_selection import train_test_split\n",
    "import numpy as np\n",
    "from sklearn.model_selection import train_test_split\n",
    "from sklearn.preprocessing import StandardScaler\n",
    "from src.model_builder import ModelBuilder"
   ]
  },
  {
   "cell_type": "code",
   "execution_count": 5,
   "metadata": {},
   "outputs": [
    {
     "name": "stdout",
     "output_type": "stream",
     "text": [
      "         0         1         2         3          4          5         6   \\\n",
      "0  0.841499  1.009367  0.993816  8.469805  10.278727  10.037759  8.501365   \n",
      "1  0.842250  1.006584  0.996605  7.531891   9.139924   8.951618  7.612213   \n",
      "2  0.840723  1.011647  0.998152  6.641699   7.975464   7.857692  6.593117   \n",
      "3  0.841119  1.017807  0.996812  5.687524   6.824334   6.689885  5.615428   \n",
      "4  0.840358  1.016534  0.996221  5.660385   6.829560   6.675628  5.623977   \n",
      "\n",
      "         7          8          9   ...         27         28         29  \\\n",
      "0  8.581726  10.247763  10.058822  ...  32.451173  34.568685  33.082683   \n",
      "1  7.623325   9.106345   8.945142  ...  32.428385  34.441732  33.081055   \n",
      "2  6.681572   7.964596   7.814698  ...  32.428385  34.275715  33.113605   \n",
      "3  5.763315   6.801051   6.686639  ...  32.485350  34.080403  33.170573   \n",
      "4  5.736818   6.813453   6.672377  ...  32.503255  34.122720  33.164062   \n",
      "\n",
      "          30         31         32         33         34         35  36  \n",
      "0  36.722005  36.969403  36.075847  36.051432  35.174155  32.729490   1  \n",
      "1  36.687825  36.933595  36.054688  35.979818  34.847005  32.731122   1  \n",
      "2  36.661785  36.873370  36.002605  35.963542  34.689128  32.771810   1  \n",
      "3  36.673177  36.811525  35.974935  35.955403  34.500328  32.849935   1  \n",
      "4  36.673177  36.826173  35.996095  35.968425  34.474283  32.853190   1  \n",
      "\n",
      "[5 rows x 37 columns]\n"
     ]
    }
   ],
   "source": [
    "# Load dataset using the correct method\n",
    "# data = model_builder.load_data(\"data/Meter_A.txt\")  \n",
    "preprocessor = DataPreprocessing()\n",
    "\n",
    "data = preprocessor.load_data(\"data/Meter_A.txt\")"
   ]
  },
  {
   "cell_type": "code",
   "execution_count": 6,
   "metadata": {},
   "outputs": [],
   "source": [
    "train_validation, test = train_test_split(data, test_size = 0.2, random_state=12)\n",
    "\n",
    "train, validation = train_test_split(train_validation, test_size = 0.2, random_state=99)"
   ]
  },
  {
   "cell_type": "code",
   "execution_count": 7,
   "metadata": {},
   "outputs": [],
   "source": [
    "# Initialize ModelBuilder (inherits from DataPreprocessing)\n",
    "model_builder = ModelBuilder()\n"
   ]
  },
  {
   "cell_type": "code",
   "execution_count": 8,
   "metadata": {},
   "outputs": [],
   "source": [
    "# Apply feature scaling\n",
    "scaler = StandardScaler()\n",
    "train_scaled = scaler.fit_transform(train[:, :-1])  # Scale training features\n",
    "validation_scaled = scaler.transform(validation[:, :-1])  # Scale validation features"
   ]
  },
  {
   "cell_type": "code",
   "execution_count": 9,
   "metadata": {},
   "outputs": [
    {
     "name": "stdout",
     "output_type": "stream",
     "text": [
      "Model Training Complete\n",
      "Model Accuracy: 0.9286\n",
      "Classification Report:\n",
      "              precision    recall  f1-score   support\n",
      "\n",
      "         1.0       0.86      1.00      0.92         6\n",
      "         2.0       1.00      0.88      0.93         8\n",
      "\n",
      "    accuracy                           0.93        14\n",
      "   macro avg       0.93      0.94      0.93        14\n",
      "weighted avg       0.94      0.93      0.93        14\n",
      "\n"
     ]
    },
    {
     "data": {
      "image/png": "[encoded data removed]",
      "text/plain": [
       "<Figure size 640x480 with 1 Axes>"
      ]
     },
     "metadata": {},
     "output_type": "display_data"
    }
   ],
   "source": [
    "# Train and evaluate ANN Model using ModelBuilder's method\n",
    "Ann_model = model_builder.ann_model(\n",
    "    X_train=train_scaled, \n",
    "    X_test=validation_scaled, \n",
    "    y_train=train[:, -1], \n",
    "    y_test=validation[:, -1]\n",
    ")"
   ]
  }
 ],
 "metadata": {
  "kernelspec": {
   "display_name": "practice1",
   "language": "python",
   "name": "python3"
  },
  "language_info": {
   "codemirror_mode": {
    "name": "ipython",
    "version": 3
   },
   "file_extension": ".py",
   "mimetype": "text/x-python",
   "name": "python",
   "nbconvert_exporter": "python",
   "pygments_lexer": "ipython3",
   "version": "3.11.8"
  }
 },
 "nbformat": 4,
 "nbformat_minor": 2
}
